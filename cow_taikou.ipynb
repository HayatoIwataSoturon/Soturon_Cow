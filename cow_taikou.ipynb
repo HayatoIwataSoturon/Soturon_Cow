{
 "cells": [
  {
   "attachments": {},
   "cell_type": "markdown",
   "metadata": {},
   "source": [
    "# 体高推定のプログラム"
   ]
  },
  {
   "attachments": {},
   "cell_type": "markdown",
   "metadata": {},
   "source": [
    "# スキャン"
   ]
  },
  {
   "attachments": {},
   "cell_type": "markdown",
   "metadata": {},
   "source": [
    "### import"
   ]
  },
  {
   "cell_type": "code",
   "execution_count": 240,
   "metadata": {},
   "outputs": [],
   "source": [
    "import numpy as np\n",
    "import copy\n",
    "import open3d as o3d\n",
    "import math\n",
    "import matplotlib.pyplot as plt"
   ]
  },
  {
   "attachments": {},
   "cell_type": "markdown",
   "metadata": {},
   "source": [
    "### パラメータの設定"
   ]
  },
  {
   "cell_type": "code",
   "execution_count": 241,
   "metadata": {},
   "outputs": [],
   "source": [
    "#読み込むファイル名\n",
    "filename = \"nb269_0001_seg1.ply\"\n",
    "\n",
    "y_points = 1\n"
   ]
  },
  {
   "cell_type": "code",
   "execution_count": 242,
   "metadata": {},
   "outputs": [],
   "source": [
    "#SCAN時に必要な配列\n",
    "front_leg1 = np.zeros((1, 3), dtype=np.float32)\n",
    "hind_leg1 = np.zeros((1, 3), dtype=np.float32)\n",
    "body1 = np.zeros((1, 3), dtype=np.float32)\n",
    "front_leg2 = np.zeros((1, 3), dtype=np.float32)\n",
    "hind_leg2 = np.zeros((1, 3), dtype=np.float32)\n",
    "body2 = np.zeros((1, 3), dtype=np.float32)"
   ]
  },
  {
   "attachments": {},
   "cell_type": "markdown",
   "metadata": {},
   "source": [
    "## ファイルの読み込み"
   ]
  },
  {
   "cell_type": "code",
   "execution_count": 273,
   "metadata": {},
   "outputs": [
    {
     "data": {
      "text/plain": [
       "PointCloud with 50811 points."
      ]
     },
     "execution_count": 273,
     "metadata": {},
     "output_type": "execute_result"
    }
   ],
   "source": [
    "pcd = o3d.io.read_point_cloud(filename)"
   ]
  },
  {
   "attachments": {},
   "cell_type": "markdown",
   "metadata": {},
   "source": [
    "### numpy変換"
   ]
  },
  {
   "cell_type": "code",
   "execution_count": 244,
   "metadata": {},
   "outputs": [],
   "source": [
    "points = np.asarray(pcd.points)"
   ]
  },
  {
   "attachments": {},
   "cell_type": "markdown",
   "metadata": {},
   "source": [
    "## RANSACで平面推定"
   ]
  },
  {
   "cell_type": "code",
   "execution_count": 245,
   "metadata": {},
   "outputs": [],
   "source": [
    "def Plane_estimate():#平面推定\n",
    "    o3d.visualization.draw_geometries([pcd])\n",
    "\n",
    "    plane_model, inliers = pcd.segment_plane(distance_threshold=0.02,\n",
    "                                            ransac_n=4,\n",
    "                                            num_iterations=10000)\n",
    "\n",
    "    [a, b, c, d] = plane_model\n",
    "    print(f\"Plane equation: {a:.2f}x + {b:.2f}y + {c:.2f}z + {d:.2f} = 0\")\n",
    "\n",
    "    plane_cloud = pcd.select_by_index(inliers)\n",
    "    plane_cloud.paint_uniform_color([1.0, 0, 0])\n",
    "    outlier_cloud = pcd.select_by_index(inliers, invert=True)\n",
    "\n",
    "    o3d.visualization.draw_geometries([plane_cloud, outlier_cloud])\n",
    "\n",
    "    return a,b,c,d,plane_cloud"
   ]
  },
  {
   "cell_type": "code",
   "execution_count": 246,
   "metadata": {},
   "outputs": [
    {
     "name": "stdout",
     "output_type": "stream",
     "text": [
      "Plane equation: -0.02x + 0.99y + 0.15z + 1.09 = 0\n"
     ]
    }
   ],
   "source": [
    "a,b,c,d,plane_cloud = Plane_estimate()"
   ]
  },
  {
   "attachments": {},
   "cell_type": "markdown",
   "metadata": {},
   "source": [
    "## RANSACで推定した平面とxz平面とのなす角度・交線のベクトルを計算"
   ]
  },
  {
   "attachments": {},
   "cell_type": "markdown",
   "metadata": {},
   "source": [
    "### なす角度の計算"
   ]
  },
  {
   "cell_type": "code",
   "execution_count": 247,
   "metadata": {},
   "outputs": [],
   "source": [
    "def Plane_theta(a,b,c):#Plane_estimateで推定した平面とxz平面とのなす角を計算\n",
    "    #cosの計算\n",
    "    t = 1\n",
    "    L = math.sqrt(a**2 + b**2 + c**2)\n",
    "    cos = (b*t)/(L * math.sqrt(t ** 2))\n",
    "    Theta = math.acos(cos)\n",
    "    print(f\"Theta:{Theta}\")\n",
    "    return Theta"
   ]
  },
  {
   "cell_type": "code",
   "execution_count": 248,
   "metadata": {},
   "outputs": [
    {
     "name": "stdout",
     "output_type": "stream",
     "text": [
      "Theta:0.1558866735000698\n"
     ]
    }
   ],
   "source": [
    "theta = Plane_theta(a,b,c)"
   ]
  },
  {
   "attachments": {},
   "cell_type": "markdown",
   "metadata": {},
   "source": [
    "### 交線のベクトルを計算"
   ]
  },
  {
   "cell_type": "code",
   "execution_count": 249,
   "metadata": {},
   "outputs": [],
   "source": [
    "def Vector(a,c):#二平面のなす交線方向のベクトルを計算\n",
    "    t = 1\n",
    "    u = (-c*t,0,a*t)\n",
    "    #正規化\n",
    "    u = (u[0] / (math.sqrt(u[0]**2+u[1]**2+u[2]**2)),0,u[2] / (math.sqrt(u[0]**2+u[1]**2+u[2]**2)))\n",
    "    return u"
   ]
  },
  {
   "cell_type": "code",
   "execution_count": 250,
   "metadata": {},
   "outputs": [],
   "source": [
    "vector = Vector(a,c)"
   ]
  },
  {
   "attachments": {},
   "cell_type": "markdown",
   "metadata": {},
   "source": [
    "## 点群の重心を計算"
   ]
  },
  {
   "cell_type": "code",
   "execution_count": 251,
   "metadata": {},
   "outputs": [],
   "source": [
    "cog = np.asarray(plane_cloud.points).mean(axis=0) * -1"
   ]
  },
  {
   "attachments": {},
   "cell_type": "markdown",
   "metadata": {},
   "source": [
    "## 点群の平行移動・回転"
   ]
  },
  {
   "cell_type": "code",
   "execution_count": 252,
   "metadata": {},
   "outputs": [],
   "source": [
    "def Rotation(Theta,u,plane_cloud):#Plane_thetaで計算したxz平面とのなす角を用いて平行移動・回転\n",
    "    mesh = o3d.geometry.TriangleMesh.create_coordinate_frame()\n",
    "    pcd_t = copy.deepcopy(pcd)\n",
    "    #平行移動\n",
    "    pcd_r = pcd_t.translate(cog)\n",
    "    o3d.visualization.draw_geometries([pcd,pcd_r,mesh,pcd_t])\n",
    "    #回転\n",
    "    R = pcd_r.get_rotation_matrix_from_axis_angle(np.array(u)*Theta)\n",
    "    pcd_r = pcd_r.rotate(R, center=(0,0,0))\n",
    "    \n",
    "\n",
    "    o3d.visualization.draw_geometries([pcd,pcd_r,mesh,pcd_t])\n",
    "\n",
    "    o3d.io.write_point_cloud(\"cowcow.ply\", pcd_r)\n",
    "    plane_model, inliers = pcd_r.segment_plane(distance_threshold=0.05,\n",
    "                                                ransac_n=4,\n",
    "                                                num_iterations=10000)\n",
    "\n",
    "    [a, b, c, d] = plane_model\n",
    "    print(f\"Plane equation: {a:.2f}x + {b:.2f}y + {c:.2f}z + {d:.2f} = 0\")\n",
    "\n",
    "    outlier_cloud = pcd_r.select_by_index(inliers, invert=True)\n",
    "    o3d.visualization.draw_geometries([outlier_cloud])\n",
    "    return outlier_cloud,pcd_r"
   ]
  },
  {
   "cell_type": "code",
   "execution_count": 253,
   "metadata": {},
   "outputs": [
    {
     "name": "stdout",
     "output_type": "stream",
     "text": [
      "Plane equation: 0.00x + 1.00y + -0.00z + -0.00 = 0\n"
     ]
    }
   ],
   "source": [
    "outlier_cloud, pcd_r = Rotation(theta,vector,plane_cloud) "
   ]
  },
  {
   "attachments": {},
   "cell_type": "markdown",
   "metadata": {},
   "source": [
    "## スキャン"
   ]
  },
  {
   "cell_type": "code",
   "execution_count": 254,
   "metadata": {},
   "outputs": [],
   "source": [
    "def Scan(pcd_r):#輪切りにする\n",
    "    bounding_polygon = np.array([\n",
    "    [ 10.0, 0.0, 10.0 ],\n",
    "    [ 10.0, 0.0, -10.0 ],\n",
    "    [ -10.0, 0.0, -10.0 ],\n",
    "    [ -10.0, 0.0, 10.0],\n",
    "    ])\n",
    "\n",
    "    vol = o3d.visualization.SelectionPolygonVolume()\n",
    "    vol.orthogonal_axis = \"Y\"\n",
    "    vol.axis_max = y_points*0.01\n",
    "    vol.axis_min = (y_points-1)*0.01\n",
    "    vol.bounding_polygon = o3d.utility.Vector3dVector(bounding_polygon)\n",
    "    \n",
    "    cropped_pcd = vol.crop_point_cloud(pcd_r)\n",
    "    cropped_pcd.paint_uniform_color([1.0, 0, 0])\n",
    "    return cropped_pcd"
   ]
  },
  {
   "attachments": {},
   "cell_type": "markdown",
   "metadata": {},
   "source": [
    "# 分類"
   ]
  },
  {
   "attachments": {},
   "cell_type": "markdown",
   "metadata": {},
   "source": [
    "## スキャンした部分をDBSCAN"
   ]
  },
  {
   "cell_type": "code",
   "execution_count": 255,
   "metadata": {},
   "outputs": [],
   "source": [
    "def Leg(cropped_pcd,front_leg2,hind_leg2,body2):#足かどうかの判別を行う\n",
    "    leg_judge = np.asarray(cropped_pcd.points)\n",
    "    labels = np.array(cropped_pcd.cluster_dbscan(eps=0.1, min_points=10))\n",
    "    #物体はひとつか？\n",
    "    if len(leg_judge) == 0:\n",
    "        max_label = 0\n",
    "    else:\n",
    "        max_label = labels.max()\n",
    "    print(len(labels))\n",
    "    print(f\"point cloud has {max_label + 1} clusters\")\n",
    "    #二つ以上なので足と判断\n",
    "    if max_label >= 1:\n",
    "        #重心を計算\n",
    "        juusin = leg_judge.mean(axis=0)\n",
    "        #重心のx値より大きいものは前足と判断\n",
    "        front_leg1 = np.zeros((len(np.append(leg_judge[leg_judge[:,0]>juusin[0]],front_leg2,axis=0)),3),dtype=np.float32)\n",
    "        front_leg1 = np.append(leg_judge[leg_judge[:,0]>juusin[0]],front_leg2,axis=0)\n",
    "        front_leg2 = np.zeros((len(front_leg1),3),dtype=np.float32)\n",
    "        front_leg2 = front_leg1\n",
    "        #重心のx値より小さいものは後ろ足と判断\n",
    "        hind_leg1 = np.zeros((len(np.append(leg_judge[leg_judge[:,0]<juusin[0]],hind_leg2,axis=0)),3),dtype=np.float32)\n",
    "        hind_leg1 = np.append(leg_judge[leg_judge[:,0]<juusin[0]],hind_leg2,axis=0)\n",
    "        hind_leg2 = np.zeros((len(hind_leg1),3),dtype=np.float32)\n",
    "        hind_leg2 = hind_leg1\n",
    "    #ひとつなので胴体(+顔)と判断\n",
    "    else:\n",
    "        body1 = np.zeros((len(np.append(leg_judge,body2,axis=0)),3),dtype=np.float32)\n",
    "        body1 = np.append(leg_judge,body2,axis=0)\n",
    "        body2 = np.zeros((len(body1),3),dtype=np.float32)\n",
    "        body2 = body1\n",
    "    return labels, max_label, front_leg2, hind_leg2, body2"
   ]
  },
  {
   "cell_type": "code",
   "execution_count": 256,
   "metadata": {},
   "outputs": [
    {
     "name": "stdout",
     "output_type": "stream",
     "text": [
      "9000\n",
      "point cloud has 1 clusters\n",
      "[Open3D WARNING] [KDTreeFlann::SetRawData] Failed due to no data.\n",
      "0\n",
      "point cloud has 1 clusters\n",
      "[Open3D WARNING] [KDTreeFlann::SetRawData] Failed due to no data.\n",
      "0\n",
      "point cloud has 1 clusters\n",
      "[Open3D WARNING] [KDTreeFlann::SetRawData] Failed due to no data.\n",
      "0\n",
      "point cloud has 1 clusters\n",
      "[Open3D WARNING] [KDTreeFlann::SetRawData] Failed due to no data.\n",
      "0\n",
      "point cloud has 1 clusters\n",
      "[Open3D WARNING] [KDTreeFlann::SetRawData] Failed due to no data.\n",
      "0\n",
      "point cloud has 1 clusters\n",
      "34\n",
      "point cloud has 1 clusters\n",
      "86\n",
      "point cloud has 2 clusters\n",
      "77\n",
      "point cloud has 3 clusters\n",
      "116\n",
      "point cloud has 3 clusters\n",
      "112\n",
      "point cloud has 3 clusters\n",
      "104\n",
      "point cloud has 3 clusters\n",
      "95\n",
      "point cloud has 3 clusters\n",
      "87\n",
      "point cloud has 3 clusters\n",
      "98\n",
      "point cloud has 3 clusters\n",
      "92\n",
      "point cloud has 4 clusters\n",
      "90\n",
      "point cloud has 4 clusters\n",
      "81\n",
      "point cloud has 3 clusters\n",
      "81\n",
      "point cloud has 4 clusters\n",
      "79\n",
      "point cloud has 4 clusters\n",
      "90\n",
      "point cloud has 3 clusters\n",
      "83\n",
      "point cloud has 3 clusters\n",
      "95\n",
      "point cloud has 3 clusters\n",
      "91\n",
      "point cloud has 3 clusters\n",
      "89\n",
      "point cloud has 3 clusters\n",
      "86\n",
      "point cloud has 3 clusters\n",
      "79\n",
      "point cloud has 3 clusters\n",
      "79\n",
      "point cloud has 3 clusters\n",
      "76\n",
      "point cloud has 3 clusters\n",
      "80\n",
      "point cloud has 3 clusters\n",
      "86\n",
      "point cloud has 3 clusters\n",
      "77\n",
      "point cloud has 3 clusters\n",
      "77\n",
      "point cloud has 3 clusters\n",
      "78\n",
      "point cloud has 3 clusters\n",
      "74\n",
      "point cloud has 2 clusters\n",
      "72\n",
      "point cloud has 2 clusters\n",
      "71\n",
      "point cloud has 2 clusters\n",
      "69\n",
      "point cloud has 2 clusters\n",
      "71\n",
      "point cloud has 2 clusters\n",
      "75\n",
      "point cloud has 2 clusters\n",
      "75\n",
      "point cloud has 2 clusters\n",
      "70\n",
      "point cloud has 2 clusters\n",
      "73\n",
      "point cloud has 2 clusters\n",
      "82\n",
      "point cloud has 2 clusters\n",
      "81\n",
      "point cloud has 2 clusters\n",
      "87\n",
      "point cloud has 2 clusters\n",
      "84\n",
      "point cloud has 2 clusters\n",
      "90\n",
      "point cloud has 2 clusters\n",
      "110\n",
      "point cloud has 3 clusters\n",
      "117\n",
      "point cloud has 3 clusters\n",
      "115\n",
      "point cloud has 2 clusters\n",
      "153\n",
      "point cloud has 2 clusters\n",
      "129\n",
      "point cloud has 2 clusters\n",
      "135\n",
      "point cloud has 2 clusters\n",
      "159\n",
      "point cloud has 2 clusters\n",
      "139\n",
      "point cloud has 2 clusters\n",
      "159\n",
      "point cloud has 2 clusters\n",
      "173\n",
      "point cloud has 4 clusters\n",
      "207\n",
      "point cloud has 4 clusters\n",
      "229\n",
      "point cloud has 4 clusters\n",
      "265\n",
      "point cloud has 2 clusters\n",
      "295\n",
      "point cloud has 4 clusters\n",
      "282\n",
      "point cloud has 4 clusters\n",
      "299\n",
      "point cloud has 4 clusters\n",
      "300\n",
      "point cloud has 3 clusters\n",
      "304\n",
      "point cloud has 3 clusters\n",
      "318\n",
      "point cloud has 3 clusters\n",
      "294\n",
      "point cloud has 3 clusters\n",
      "298\n",
      "point cloud has 1 clusters\n",
      "314\n",
      "point cloud has 1 clusters\n",
      "330\n",
      "point cloud has 1 clusters\n",
      "336\n",
      "point cloud has 1 clusters\n",
      "343\n",
      "point cloud has 1 clusters\n",
      "341\n",
      "point cloud has 1 clusters\n",
      "323\n",
      "point cloud has 1 clusters\n",
      "332\n",
      "point cloud has 1 clusters\n",
      "329\n",
      "point cloud has 1 clusters\n",
      "339\n",
      "point cloud has 1 clusters\n",
      "317\n",
      "point cloud has 1 clusters\n",
      "342\n",
      "point cloud has 1 clusters\n",
      "326\n",
      "point cloud has 1 clusters\n",
      "332\n",
      "point cloud has 1 clusters\n",
      "327\n",
      "point cloud has 1 clusters\n",
      "319\n",
      "point cloud has 1 clusters\n",
      "355\n",
      "point cloud has 1 clusters\n",
      "337\n",
      "point cloud has 1 clusters\n",
      "325\n",
      "point cloud has 1 clusters\n",
      "321\n",
      "point cloud has 1 clusters\n",
      "348\n",
      "point cloud has 1 clusters\n",
      "348\n",
      "point cloud has 1 clusters\n",
      "321\n",
      "point cloud has 1 clusters\n",
      "329\n",
      "point cloud has 1 clusters\n",
      "326\n",
      "point cloud has 1 clusters\n",
      "319\n",
      "point cloud has 1 clusters\n",
      "349\n",
      "point cloud has 1 clusters\n",
      "342\n",
      "point cloud has 1 clusters\n",
      "335\n",
      "point cloud has 1 clusters\n",
      "354\n",
      "point cloud has 1 clusters\n",
      "341\n",
      "point cloud has 1 clusters\n",
      "346\n",
      "point cloud has 1 clusters\n",
      "358\n",
      "point cloud has 1 clusters\n",
      "343\n",
      "point cloud has 1 clusters\n",
      "353\n",
      "point cloud has 1 clusters\n",
      "340\n",
      "point cloud has 1 clusters\n",
      "356\n",
      "point cloud has 1 clusters\n",
      "359\n",
      "point cloud has 1 clusters\n",
      "366\n",
      "point cloud has 1 clusters\n",
      "378\n",
      "point cloud has 1 clusters\n",
      "374\n",
      "point cloud has 1 clusters\n",
      "389\n",
      "point cloud has 1 clusters\n",
      "380\n",
      "point cloud has 1 clusters\n",
      "395\n",
      "point cloud has 1 clusters\n",
      "395\n",
      "point cloud has 1 clusters\n",
      "390\n",
      "point cloud has 1 clusters\n",
      "405\n",
      "point cloud has 2 clusters\n",
      "356\n",
      "point cloud has 2 clusters\n",
      "326\n",
      "point cloud has 1 clusters\n",
      "326\n",
      "point cloud has 1 clusters\n",
      "318\n",
      "point cloud has 1 clusters\n",
      "323\n",
      "point cloud has 1 clusters\n",
      "308\n",
      "point cloud has 1 clusters\n",
      "308\n",
      "point cloud has 1 clusters\n",
      "318\n",
      "point cloud has 1 clusters\n",
      "344\n",
      "point cloud has 1 clusters\n",
      "353\n",
      "point cloud has 1 clusters\n",
      "375\n",
      "point cloud has 1 clusters\n",
      "362\n",
      "point cloud has 1 clusters\n",
      "353\n",
      "point cloud has 1 clusters\n",
      "329\n",
      "point cloud has 1 clusters\n",
      "[[-0.9356302   1.28799904  0.50701631]\n",
      " [-0.7866941   1.28287646  0.49837493]\n",
      " [ 0.43000763  1.28256764  0.30862715]\n",
      " ...\n",
      " [ 0.43145713  0.0017374   0.66225131]\n",
      " [ 0.44012031  0.00161935  0.66393994]\n",
      " [ 0.          0.          0.        ]]\n"
     ]
    }
   ],
   "source": [
    "scan = Scan(pcd_r)\n",
    "labels, max_label, front_leg, hind_leg, body= Leg(scan,front_leg2,hind_leg2,body2)\n",
    "for y_points in range(2,130):\n",
    "    scan = Scan(outlier_cloud)\n",
    "    labels, max_label, front_leg, hind_leg, body = Leg(scan,front_leg,hind_leg,body)\n",
    "print(body)"
   ]
  },
  {
   "attachments": {},
   "cell_type": "markdown",
   "metadata": {},
   "source": [
    "### y座標を無視してxz座標平面にプロットする"
   ]
  },
  {
   "cell_type": "code",
   "execution_count": 257,
   "metadata": {},
   "outputs": [],
   "source": [
    "def Plot(cropped_pcd):#輪切りにした点をy座標を無視してxz座標平面にプロットする\n",
    "    pcd_xz = np.asarray(cropped_pcd.points)\n",
    "    print(pcd_xz)\n",
    "    x = np.zeros((len(pcd_xz),1),dtype=np.float32)\n",
    "    z = np.zeros((len(pcd_xz),1),dtype=np.float32)\n",
    "    x = pcd_xz[:,0]\n",
    "    z = pcd_xz[:,2]\n",
    "\n",
    "    xz = np.zeros((len(pcd_xz),2),dtype=np.float32)\n",
    "    xz[:,0] = x\n",
    "    xz[:,1] = z\n",
    "\n",
    "    # figureを生成する\n",
    "    fig = plt.figure()\n",
    "    # axをfigureに設定する\n",
    "    ax = fig.add_subplot(1, 1, 1)   \n",
    "    # axesに散布図を設定する\n",
    "    ax.scatter(x, z, c='b')\n",
    "    #凡例要素を表示\n",
    "    ax.set_xlim(left=-3, right=3)  # x範囲\n",
    "    ax.set_ylim(bottom=-3, top=3)  # y範囲\n",
    "    ax.set_xlabel('X')  # x軸ラベル\n",
    "    ax.set_ylabel('Z')  # y軸ラベル\n",
    "    ax.set_title('y=0')  # グラフタイトル\n",
    "    ax.legend(['x1, y1', 'x2, y2'])  # 凡例を表示\n",
    "    # 表示する\n",
    "    plt.show()\n",
    "\n",
    "    return xz"
   ]
  },
  {
   "attachments": {},
   "cell_type": "markdown",
   "metadata": {},
   "source": [
    "### 前足の表示"
   ]
  },
  {
   "cell_type": "code",
   "execution_count": 258,
   "metadata": {},
   "outputs": [
    {
     "name": "stdout",
     "output_type": "stream",
     "text": [
      "PointCloud with 3623 points.\n",
      "[[0.27970707 1.15230517 0.4598414 ]\n",
      " [0.03548096 1.15590667 0.50005264]\n",
      " [0.48589602 1.15911294 0.38941348]\n",
      " ...\n",
      " [0.35324625 0.07340231 0.34869516]\n",
      " [0.32264559 0.07060643 0.36173524]\n",
      " [0.         0.         0.        ]]\n"
     ]
    },
    {
     "data": {
      "image/png": "[encoded data removed]",
      "text/plain": [
       "<Figure size 640x480 with 1 Axes>"
      ]
     },
     "metadata": {},
     "output_type": "display_data"
    },
    {
     "data": {
      "text/plain": [
       "array([[0.27970707, 0.4598414 ],\n",
       "       [0.03548096, 0.50005263],\n",
       "       [0.48589602, 0.38941348],\n",
       "       ...,\n",
       "       [0.35324624, 0.34869516],\n",
       "       [0.3226456 , 0.36173525],\n",
       "       [0.        , 0.        ]], dtype=float32)"
      ]
     },
     "execution_count": 258,
     "metadata": {},
     "output_type": "execute_result"
    }
   ],
   "source": [
    "mesh = o3d.geometry.TriangleMesh.create_coordinate_frame()\n",
    "pcd_dv =o3d.geometry.PointCloud()\n",
    "pcd_dv.points = o3d.utility.Vector3dVector(front_leg)\n",
    "print(pcd_dv)\n",
    "o3d.visualization.draw_geometries([pcd_dv,mesh])\n",
    "Plot(pcd_dv)"
   ]
  },
  {
   "attachments": {},
   "cell_type": "markdown",
   "metadata": {},
   "source": [
    "## DBSCAN"
   ]
  },
  {
   "cell_type": "code",
   "execution_count": 259,
   "metadata": {},
   "outputs": [],
   "source": [
    "def DBScan(pcd):#DBScanを行う\n",
    "    labels = np.array(pcd.cluster_dbscan(eps=0.1, min_points=270))\n",
    "    max_label = labels.max()\n",
    "    print(len(labels))\n",
    "    print(f\"point cloud has {max_label + 1} clusters\")\n",
    "    seg = plt.get_cmap(\"tab20\")(labels / max(max_label,1))\n",
    "    seg[labels < 0] = 0\n",
    "    #セグメンテーションの可視化\n",
    "    pcd_seg =o3d.geometry.PointCloud()\n",
    "    pcd_seg.points = o3d.utility.Vector3dVector(pcd.points)\n",
    "    pcd_seg.colors = o3d.utility.Vector3dVector(seg[:, :3])\n",
    "    return labels, max_label, pcd_seg"
   ]
  },
  {
   "cell_type": "code",
   "execution_count": 260,
   "metadata": {},
   "outputs": [
    {
     "name": "stdout",
     "output_type": "stream",
     "text": [
      "3623\n",
      "point cloud has 1 clusters\n"
     ]
    }
   ],
   "source": [
    "#さらに前足を精度高く検出\n",
    "labels, max_label, pcd_seg = DBScan(pcd_dv)\n",
    "points = np.asarray(pcd_dv.points)\n",
    "o3d.visualization.draw_geometries([pcd_seg])\n"
   ]
  },
  {
   "attachments": {},
   "cell_type": "markdown",
   "metadata": {},
   "source": [
    "## 分類した物体の重心をそれぞれ計算"
   ]
  },
  {
   "cell_type": "code",
   "execution_count": 261,
   "metadata": {},
   "outputs": [],
   "source": [
    "def Devide(labels, points, d):#セグメンテーションを行う\n",
    "    p = 0\n",
    "    count = np.count_nonzero(labels == d)\n",
    "    print(f\"{d+1}番目の点群数:{count}\")\n",
    "    pcd_pt = np.zeros((count, 3), dtype=np.float32)\n",
    "    pcd_cl = np.zeros((count, 3), dtype=np.float32)\n",
    "    for k in range(len(labels)):#ここでラベルごとに点群を分けている\n",
    "        if (labels[k] == d):\n",
    "            pcd_pt[p] = points[k]\n",
    "            p = p + 1\n",
    "    #点群を統合している\n",
    "    pcd_dv =o3d.geometry.PointCloud()\n",
    "    pcd_dv.points = o3d.utility.Vector3dVector(pcd_pt)\n",
    "    return pcd_dv, count"
   ]
  },
  {
   "attachments": {},
   "cell_type": "markdown",
   "metadata": {},
   "source": [
    "## 物体の点群の点数が最大のものを選択"
   ]
  },
  {
   "cell_type": "code",
   "execution_count": 262,
   "metadata": {},
   "outputs": [
    {
     "name": "stdout",
     "output_type": "stream",
     "text": [
      "1番目の点群数:3000\n"
     ]
    }
   ],
   "source": [
    "foot_mean = 0\n",
    "for d in range(0,max_label+1):\n",
    "    pcd_dvd, count = Devide(labels,points,d)\n",
    "    o3d.visualization.draw_geometries([pcd_dvd])\n",
    "    devide_np = np.asarray(pcd_dvd.points)\n",
    "    devide_mean = devide_np.mean(axis=0)\n",
    "    bunrui = len(devide_np) #/ devide_mean[1]\n",
    "    if bunrui > foot_mean:\n",
    "        foot_mean = bunrui\n",
    "        cluster_num = d\n",
    "        pcd_foot = o3d.geometry.PointCloud()\n",
    "        pcd_foot.points = pcd_dvd.points"
   ]
  },
  {
   "attachments": {},
   "cell_type": "markdown",
   "metadata": {},
   "source": [
    "# 推定"
   ]
  },
  {
   "cell_type": "markdown",
   "metadata": {},
   "source": [
    "## y座標を除去して平面にプロット"
   ]
  },
  {
   "cell_type": "code",
   "execution_count": 263,
   "metadata": {},
   "outputs": [
    {
     "name": "stdout",
     "output_type": "stream",
     "text": [
      "[[0.01716064 0.67421776 0.4907105 ]\n",
      " [0.18785566 0.67048621 0.47954741]\n",
      " [0.18188281 0.67100978 0.47080323]\n",
      " ...\n",
      " [0.32187337 0.07987729 0.35938698]\n",
      " [0.35324624 0.07340231 0.34869516]\n",
      " [0.3226456  0.07060643 0.36173525]]\n"
     ]
    },
    {
     "data": {
      "image/png": "[encoded data removed]",
      "text/plain": [
       "<Figure size 640x480 with 1 Axes>"
      ]
     },
     "metadata": {},
     "output_type": "display_data"
    }
   ],
   "source": [
    "plot = Plot(pcd_foot)"
   ]
  },
  {
   "attachments": {},
   "cell_type": "markdown",
   "metadata": {},
   "source": [
    "## 重心をとる"
   ]
  },
  {
   "cell_type": "code",
   "execution_count": 264,
   "metadata": {},
   "outputs": [],
   "source": [
    "mean = plot.mean(axis=0)"
   ]
  },
  {
   "attachments": {},
   "cell_type": "markdown",
   "metadata": {},
   "source": [
    "## 重心と点群との距離を計算し，最大のものを選択"
   ]
  },
  {
   "cell_type": "code",
   "execution_count": 265,
   "metadata": {},
   "outputs": [],
   "source": [
    "hankei = np.zeros(len(plot),dtype=np.float32)"
   ]
  },
  {
   "attachments": {},
   "cell_type": "markdown",
   "metadata": {},
   "source": [
    "## 重心を中心，最大の距離を半径とする正六角形を作成"
   ]
  },
  {
   "cell_type": "code",
   "execution_count": 266,
   "metadata": {},
   "outputs": [],
   "source": [
    "def Hexagon(xz,pcd):\n",
    "    for k in range(0,len(xz)):\n",
    "        hankei[k] = np.linalg.norm(mean-xz[k])\n",
    "    index_hankei = hankei.argmax()\n",
    "    max_hankei = xz[index_hankei]\n",
    "    print(max_hankei)\n",
    "    u = max_hankei - mean\n",
    "    print(u)\n",
    "    #回転\n",
    "    ax = u[0]*math.cos(np.deg2rad(60)) - u[1]*math.sin(np.deg2rad(60)) + mean[0]\n",
    "    az = u[0]*math.sin(np.deg2rad(60)) + u[1]*math.cos(np.deg2rad(60)) + mean[1]\n",
    "    bx = u[0]*math.cos(np.deg2rad(120)) - u[1]*math.sin(np.deg2rad(120)) + mean[0]\n",
    "    bz = u[0]*math.sin(np.deg2rad(120)) + u[1]*math.cos(np.deg2rad(120)) + mean[1]\n",
    "    cx = u[0]*math.cos(np.deg2rad(180)) - u[1]*math.sin(np.deg2rad(180)) + mean[0]\n",
    "    cz = u[0]*math.sin(np.deg2rad(180)) + u[1]*math.cos(np.deg2rad(180)) + mean[1]\n",
    "    dx = u[0]*math.cos(np.deg2rad(240)) - u[1]*math.sin(np.deg2rad(240)) + mean[0]\n",
    "    dz = u[0]*math.sin(np.deg2rad(240)) + u[1]*math.cos(np.deg2rad(240)) + mean[1]\n",
    "    ex = u[0]*math.cos(np.deg2rad(300)) - u[1]*math.sin(np.deg2rad(300)) + mean[0]\n",
    "    ez = u[0]*math.sin(np.deg2rad(300)) + u[1]*math.cos(np.deg2rad(300)) + mean[1]\n",
    "    fx = u[0]*math.cos(np.deg2rad(360)) - u[1]*math.sin(np.deg2rad(360)) + mean[0]\n",
    "    fz = u[0]*math.sin(np.deg2rad(360)) + u[1]*math.cos(np.deg2rad(360)) + mean[1]\n",
    "\n",
    "    rokkaku = np.zeros((7,3),dtype=np.float32)\n",
    "    rokkaku = [[ax,0,az],[bx,0,bz],[cx,0,cz],[dx,0,dz],[ex,0,ez],[fx,0,fz],[mean[0],0,mean[1]]]\n",
    "    Rokkaku = o3d.geometry.PointCloud()\n",
    "    Rokkaku.points = o3d.utility.Vector3dVector(rokkaku)\n",
    "\n",
    "    return Rokkaku"
   ]
  },
  {
   "attachments": {},
   "cell_type": "markdown",
   "metadata": {},
   "source": [
    "## y軸方向に伸ばして六角柱を作る"
   ]
  },
  {
   "cell_type": "code",
   "execution_count": 288,
   "metadata": {},
   "outputs": [],
   "source": [
    "def Rokkakuchu(rokkaku,pcd):\n",
    "    rokkaku_np = np.zeros((7,3),dtype=np.float32)\n",
    "    rokkaku_np = np.asarray(rokkaku.points)\n",
    "    #meanを中心として正六角形を作る\n",
    "    bounding_polygon = np.array([\n",
    "    [ rokkaku_np[0,0],rokkaku_np[0,1],rokkaku_np[0,2]],\n",
    "    [ rokkaku_np[1,0],rokkaku_np[1,1],rokkaku_np[1,2]],\n",
    "    [ rokkaku_np[2,0],rokkaku_np[2,1],rokkaku_np[2,2]],\n",
    "    [ rokkaku_np[3,0],rokkaku_np[3,1],rokkaku_np[3,2]],\n",
    "    [ rokkaku_np[4,0],rokkaku_np[4,1],rokkaku_np[4,2]],\n",
    "    [ rokkaku_np[5,0],rokkaku_np[5,1],rokkaku_np[5,2]],\n",
    "    ])\n",
    "\n",
    "    vol = o3d.visualization.SelectionPolygonVolume()\n",
    "    vol.orthogonal_axis = \"Y\"\n",
    "    vol.axis_max = 10\n",
    "    vol.axis_min = -10\n",
    "    vol.bounding_polygon = o3d.utility.Vector3dVector(bounding_polygon)\n",
    "    \n",
    "    taikou_pcd = vol.crop_point_cloud(pcd)\n",
    "    taikou_pcd.paint_uniform_color([1.0, 0, 0])\n",
    "    #pcd_y = pcd_r.translate([-0.01,0,-0.01])\n",
    "    o3d.visualization.draw_geometries([taikou_pcd,pcd])\n",
    "\n",
    "    return taikou_pcd"
   ]
  },
  {
   "attachments": {},
   "cell_type": "markdown",
   "metadata": {},
   "source": [
    "## 六角柱内の点群を全て選択"
   ]
  },
  {
   "cell_type": "code",
   "execution_count": 289,
   "metadata": {},
   "outputs": [
    {
     "name": "stdout",
     "output_type": "stream",
     "text": [
      "[0.71511537 0.27632442]\n",
      "[ 0.3990303  -0.08659986]\n",
      "[[ 0.5905979   0.          0.66519472]\n",
      " [ 0.1915676   0.          0.75179458]\n",
      " [-0.08294523  0.          0.44952413]\n",
      " [ 0.04157225  0.          0.06065383]\n",
      " [ 0.44060254  0.         -0.02594603]\n",
      " [ 0.71511537  0.          0.27632442]\n",
      " [ 0.31608507  0.          0.36292428]]\n"
     ]
    },
    {
     "data": {
      "image/png": "[encoded data removed]",
      "text/plain": [
       "<Figure size 640x480 with 1 Axes>"
      ]
     },
     "metadata": {},
     "output_type": "display_data"
    },
    {
     "data": {
      "text/plain": [
       "PointCloud with 14680 points."
      ]
     },
     "execution_count": 289,
     "metadata": {},
     "output_type": "execute_result"
    }
   ],
   "source": [
    "Rokkaku = Hexagon(plot,pcd_r)\n",
    "taikou_pcd = Rokkakuchu(Rokkaku,pcd_r)\n",
    "Plot(Rokkaku)\n",
    "taikou_pcd"
   ]
  },
  {
   "attachments": {},
   "cell_type": "markdown",
   "metadata": {},
   "source": [
    "## 六角柱内の点群の内，y座標の大きい順にH個選択"
   ]
  },
  {
   "cell_type": "code",
   "execution_count": 290,
   "metadata": {},
   "outputs": [],
   "source": [
    "def Taikou(taikou_pcd):\n",
    "    taikou_np = np.asarray(taikou_pcd.points)\n",
    "    taikou_kouho = np.zeros((len(taikou_np),1),dtype=np.float32)\n",
    "    taikou_kouho = taikou_np[:,1]\n",
    "    taikou_kouho = sorted(taikou_kouho)\n",
    "    taikou_sentaku = np.zeros((math.floor(len(taikou_np)/100)+3,1),dtype=np.float32)\n",
    "    #y座標の上から座標内の点数/10だけの点を取り，平均を算出\n",
    "    for T in range(math.floor(-len(taikou_np)/100),-1):\n",
    "        taikou_sentaku[-T] = taikou_kouho[T]\n",
    "    taikou_sentaku = taikou_sentaku[taikou_sentaku > 0]\n",
    "    taikou = taikou_sentaku.mean()\n",
    "    print(taikou_sentaku)\n",
    "    print(f\"この和牛の体高は{taikou}mです\")"
   ]
  },
  {
   "attachments": {},
   "cell_type": "markdown",
   "metadata": {},
   "source": [
    "## y座標の平均を計算"
   ]
  },
  {
   "cell_type": "code",
   "execution_count": 291,
   "metadata": {},
   "outputs": [
    {
     "name": "stdout",
     "output_type": "stream",
     "text": [
      "[1.3285208 1.3281733 1.3279464 1.3278598 1.3265172 1.3262409 1.3259474\n",
      " 1.3244565 1.3237898 1.3235998 1.3234386 1.3228288 1.3225907 1.3225658\n",
      " 1.3223561 1.3221074 1.3218124 1.321214  1.320232  1.3200551 1.3200188\n",
      " 1.3198732 1.3197232 1.3195027 1.3194873 1.3194453 1.3188475 1.3186297\n",
      " 1.3175026 1.3174171 1.3173376 1.3172504 1.3171861 1.3169466 1.3167883\n",
      " 1.3161315 1.3160784 1.3158381 1.3158339 1.3157904 1.3156617 1.3156476\n",
      " 1.3150184 1.3150033 1.314625  1.3144891 1.3141263 1.3141019 1.3136706\n",
      " 1.3133507 1.3132992 1.3131105 1.3130541 1.3128986 1.3126488 1.3125591\n",
      " 1.3125434 1.3125259 1.3125057 1.3122845 1.3122051 1.3121464 1.3120576\n",
      " 1.3119864 1.311828  1.3116597 1.3115999 1.3114712 1.3114709 1.3113146\n",
      " 1.3112456 1.3110808 1.3108456 1.3108369 1.3106301 1.3102176 1.31009\n",
      " 1.3098335 1.309618  1.3090612 1.3090335 1.3089069 1.3088883 1.3088518\n",
      " 1.3087726 1.3085152 1.3083705 1.3083562 1.3083556 1.308066  1.3077948\n",
      " 1.3077816 1.3072536 1.3071164 1.3069465 1.306941  1.3065368 1.3065258\n",
      " 1.3063977 1.3063976 1.3062032 1.3061782 1.3061498 1.3057561 1.305744\n",
      " 1.3055125 1.3052919 1.3052579 1.3051028 1.3050106 1.3049567 1.304696\n",
      " 1.3046625 1.3043681 1.3041865 1.3041077 1.3039144 1.3038673 1.3038344\n",
      " 1.3037329 1.3037112 1.303698  1.3036665 1.3034737 1.3034446 1.3034286\n",
      " 1.3033779 1.3033723 1.3031623 1.3030984 1.3029586 1.3029011 1.3028162\n",
      " 1.3025652 1.3025386 1.3024888 1.302112  1.3020703 1.3019809 1.3018756\n",
      " 1.301664  1.3014444 1.30136   1.3012391 1.3012305 1.3010138]\n",
      "この和牛の体高は1.311323642730713mです\n"
     ]
    }
   ],
   "source": [
    "Taikou(taikou_pcd)"
   ]
  },
  {
   "attachments": {},
   "cell_type": "markdown",
   "metadata": {},
   "source": [
    "## 体高推定完了"
   ]
  }
 ],
 "metadata": {
  "kernelspec": {
   "display_name": "cow",
   "language": "python",
   "name": "python3"
  },
  "language_info": {
   "codemirror_mode": {
    "name": "ipython",
    "version": 3
   },
   "file_extension": ".py",
   "mimetype": "text/x-python",
   "name": "python",
   "nbconvert_exporter": "python",
   "pygments_lexer": "ipython3",
   "version": "3.8.2"
  },
  "orig_nbformat": 4,
  "vscode": {
   "interpreter": {
    "hash": "c1523afd6fc9a057b0b5280e1ee1b262a452779c9e1e049d8bfff9b76fa22917"
   }
  }
 },
 "nbformat": 4,
 "nbformat_minor": 2
}
