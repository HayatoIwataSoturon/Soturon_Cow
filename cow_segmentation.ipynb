{
 "cells": [
  {
   "attachments": {},
   "cell_type": "markdown",
   "metadata": {},
   "source": [
    "# セグメンテーション"
   ]
  },
  {
   "attachments": {},
   "cell_type": "markdown",
   "metadata": {},
   "source": [
    "### import"
   ]
  },
  {
   "cell_type": "code",
   "execution_count": 11,
   "metadata": {},
   "outputs": [],
   "source": [
    "import open3d as o3d\n",
    "import numpy as np\n",
    "import matplotlib.pyplot as plt"
   ]
  },
  {
   "attachments": {},
   "cell_type": "markdown",
   "metadata": {},
   "source": [
    "## ファイルを選択"
   ]
  },
  {
   "attachments": {},
   "cell_type": "markdown",
   "metadata": {},
   "source": [
    "### パラメータ"
   ]
  },
  {
   "cell_type": "code",
   "execution_count": 12,
   "metadata": {},
   "outputs": [],
   "source": [
    "num = 1\n",
    "filename = \"seg_cow.ply\"\n",
    "name = \"seg_cow\""
   ]
  },
  {
   "attachments": {},
   "cell_type": "markdown",
   "metadata": {},
   "source": [
    "## ファイルを読み込む"
   ]
  },
  {
   "cell_type": "code",
   "execution_count": 13,
   "metadata": {},
   "outputs": [],
   "source": [
    "def Loading(filename):#PointCloudを読み込んでダウンサンプリング\n",
    "    print(\"Loading a point cloud from\", filename)\n",
    "    pcd = o3d.io.read_point_cloud(filename)\n",
    "    print(pcd)\n",
    "    pcd = pcd.voxel_down_sample(voxel_size=0.01)\n",
    "    points = np.asarray(pcd.points)\n",
    "    colors = np.asarray(pcd.colors)\n",
    "    return points, colors, pcd"
   ]
  },
  {
   "cell_type": "code",
   "execution_count": 14,
   "metadata": {},
   "outputs": [
    {
     "name": "stdout",
     "output_type": "stream",
     "text": [
      "Loading a point cloud from nb368_0028.ply\n",
      "PointCloud with 368640 points.\n"
     ]
    }
   ],
   "source": [
    "load = Loading(filename)"
   ]
  },
  {
   "attachments": {},
   "cell_type": "markdown",
   "metadata": {},
   "source": [
    "## ダウンサンプリング"
   ]
  },
  {
   "attachments": {},
   "cell_type": "markdown",
   "metadata": {},
   "source": [
    "## DBSCAN"
   ]
  },
  {
   "cell_type": "code",
   "execution_count": 15,
   "metadata": {},
   "outputs": [],
   "source": [
    "def DBScan(pcd):#DBScanを行う\n",
    "    labels = np.array(pcd.cluster_dbscan(eps=0.1, min_points=270))\n",
    "    max_label = labels.max()\n",
    "    print(len(labels))\n",
    "    print(f\"point cloud has {max_label + 1} clusters\")\n",
    "    seg = plt.get_cmap(\"tab20\")(labels / max(max_label,1))\n",
    "    seg[labels < 0] = 0\n",
    "    #セグメンテーションの可視化\n",
    "    pcd_seg =o3d.geometry.PointCloud()\n",
    "    pcd_seg.points = o3d.utility.Vector3dVector(pcd.points)\n",
    "    pcd_seg.colors = o3d.utility.Vector3dVector(seg[:, :3])\n",
    "    return labels, max_label, pcd_seg"
   ]
  },
  {
   "cell_type": "code",
   "execution_count": 16,
   "metadata": {},
   "outputs": [
    {
     "name": "stdout",
     "output_type": "stream",
     "text": [
      "58109\n",
      "point cloud has 5 clusters\n"
     ]
    }
   ],
   "source": [
    "scan = DBScan(load[2])"
   ]
  },
  {
   "cell_type": "code",
   "execution_count": 17,
   "metadata": {},
   "outputs": [],
   "source": [
    "def Devide(labels, points, colors, d):#セグメンテーションを行う\n",
    "    p = 0\n",
    "    count = np.count_nonzero(labels == d)\n",
    "    print(f\"{d+1}番目の点群数:{count}\")\n",
    "    pcd_pt = np.zeros((count, 3), dtype=np.float32)\n",
    "    pcd_cl = np.zeros((count, 3), dtype=np.float32)\n",
    "    for k in range(len(labels)):#ここでラベルごとに点群を分けている\n",
    "        if (labels[k] == d):\n",
    "            pcd_pt[p] = points[k]\n",
    "            pcd_cl[p] = colors[k]\n",
    "            p = p + 1\n",
    "    #点群を統合している\n",
    "    pcd_dv =o3d.geometry.PointCloud()\n",
    "    pcd_dv.points = o3d.utility.Vector3dVector(pcd_pt)\n",
    "    pcd_dv.colors = o3d.utility.Vector3dVector(pcd_cl)\n",
    "    return pcd_dv"
   ]
  },
  {
   "attachments": {},
   "cell_type": "markdown",
   "metadata": {},
   "source": [
    "## 分類した点群を表示"
   ]
  },
  {
   "cell_type": "code",
   "execution_count": 18,
   "metadata": {},
   "outputs": [],
   "source": [
    "o3d.visualization.draw_geometries([scan[2]])"
   ]
  },
  {
   "attachments": {},
   "cell_type": "markdown",
   "metadata": {},
   "source": [
    "## 保存するか?"
   ]
  },
  {
   "cell_type": "code",
   "execution_count": 19,
   "metadata": {},
   "outputs": [
    {
     "name": "stdout",
     "output_type": "stream",
     "text": [
      "1番目の点群数:5342\n",
      "2番目の点群数:25445\n",
      "nb368_0028_seg1.ply was saved\n",
      "3番目の点群数:6187\n",
      "nb368_0028_seg2.ply was saved\n",
      "4番目の点群数:419\n",
      "5番目の点群数:299\n"
     ]
    }
   ],
   "source": [
    "for d in range(0,scan[1]+1):\n",
    "    devide = Devide(scan[0],load[0],load[1],d)\n",
    "    o3d.visualization.draw_geometries([devide])\n",
    "    YorN = input(\"Y or N?:\")\n",
    "    if YorN == \"y\":\n",
    "        s = str(num)\n",
    "        o3d.io.write_point_cloud(f\"{name}_seg{s}.ply\", devide)\n",
    "        print(f\"{name}_seg{s}.ply was saved\")\n",
    "        num = num + 1"
   ]
  },
  {
   "attachments": {},
   "cell_type": "markdown",
   "metadata": {},
   "source": [
    "## PLYファイルの保存"
   ]
  },
  {
   "cell_type": "code",
   "execution_count": 20,
   "metadata": {},
   "outputs": [],
   "source": [
    "###o3d.io.write_point_cloud(f\"{name}_seg{s}.ply\", devide)\n",
    "###このコードで保存している"
   ]
  }
 ],
 "metadata": {
  "kernelspec": {
   "display_name": "cow",
   "language": "python",
   "name": "python3"
  },
  "language_info": {
   "codemirror_mode": {
    "name": "ipython",
    "version": 3
   },
   "file_extension": ".py",
   "mimetype": "text/x-python",
   "name": "python",
   "nbconvert_exporter": "python",
   "pygments_lexer": "ipython3",
   "version": "3.8.2"
  },
  "orig_nbformat": 4,
  "vscode": {
   "interpreter": {
    "hash": "c1523afd6fc9a057b0b5280e1ee1b262a452779c9e1e049d8bfff9b76fa22917"
   }
  }
 },
 "nbformat": 4,
 "nbformat_minor": 2
}
